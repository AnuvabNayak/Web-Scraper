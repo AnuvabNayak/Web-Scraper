{
 "cells": [
  {
   "cell_type": "code",
   "execution_count": 1,
   "id": "da50935a-b44c-4f73-ad84-f7e979ac9534",
   "metadata": {},
   "outputs": [],
   "source": [
    "import requests\n",
    "from bs4 import BeautifulSoup\n",
    "import pandas as pd\n",
    "import time"
   ]
  },
  {
   "cell_type": "code",
   "execution_count": 2,
   "id": "0d1957cb-9315-4f7b-b7a8-e5b80da8a957",
   "metadata": {},
   "outputs": [],
   "source": [
    "def scrape_yellow_pages():\n",
    "    # Headers to simulate a request from a web browser\n",
    "    headers = {\n",
    "        'User-Agent': 'Mozilla/5.0 (Windows NT 10.0; Win64; x64) AppleWebKit/537.36 (KHTML, like Gecko) Chrome/58.0.3029.110 Safari/537.36'\n",
    "    }\n",
    "    \n",
    "    # Base URL of the search results for digital marketing agencies in Los Angeles\n",
    "    base_url = 'https://www.yellowpages.com/search?search_terms=digital+marketing+agency&geo_location_terms=Los+Angeles%2C+CA'\n",
    "    \n",
    "    # Starting a session to keep certain parameters across requests\n",
    "    session = requests.Session()\n",
    "    session.headers.update(headers)\n",
    "    \n",
    "    data = []  # List to store extracted data\n",
    "    total_companies = 0  # Counter to track the number of companies scraped\n",
    "    page = 1  # Page counter to navigate through pagination\n",
    "    \n",
    "    # Loop until 50 companies are scraped or no more companies are found\n",
    "    while total_companies < 50:\n",
    "        url = f'{base_url}&page={page}'  # Constructing URL for each page\n",
    "        response = session.get(url)  # Making a GET request to the URL\n",
    "        if response.status_code != 200:\n",
    "            print(f\"Failed to retrieve page with status code: {response.status_code}\")\n",
    "            break\n",
    "        \n",
    "        soup = BeautifulSoup(response.content, 'html.parser')  # Parsing the page content\n",
    "        companies = soup.find_all('div', class_='info')  # Finding all company blocks\n",
    "        \n",
    "        if not companies:\n",
    "            print(\"No companies found on this page.\")\n",
    "            break\n",
    "        \n",
    "        # Extracting data for each company found on the page\n",
    "        for company in companies:\n",
    "            try:\n",
    "                name = company.find('a', class_='business-name').text.strip() if company.find('a', class_='business-name') else 'No name available'\n",
    "                website_link = company.find('a', class_='track-visit-website')\n",
    "                website = website_link['href'] if website_link else 'No website'\n",
    "                phone = company.find('div', class_='phones phone primary').text.strip() if company.find('div', class_='phones phone primary') else 'No phone available'\n",
    "                address = company.find('div', class_='street-address').text.strip() + \", \" + company.find('div', class_='locality').text.strip() if company.find('div', class_='street-address') and company.find('div', class_='locality') else 'No address available'\n",
    "                category = \"Digital Marketing Agencies\"  # Static data as category is predefined\n",
    "                description = 'Not available'  # Static text as descriptions are not consistently available\n",
    "                \n",
    "                # Adding data to the list only if essential fields are present\n",
    "                if name and website and phone and address:\n",
    "                    data.append([name, website, phone, address, category, description, 'Email not available'])\n",
    "                    total_companies += 1\n",
    "                    if total_companies >= 50:\n",
    "                        break\n",
    "            except Exception as e:\n",
    "                print(f'Error extracting data for a company: {e}')\n",
    "        \n",
    "        time.sleep(1.5)  # Delay to prevent being blocked by the server\n",
    "        page += 1  # Increment page counter to navigate to the next page\n",
    "\n",
    "    # Creating a DataFrame from the list of data and exporting to CSV\n",
    "    df = pd.DataFrame(data, columns=['Name', 'Website', 'Phone', 'Address', 'Category', 'Description', 'Email'])\n",
    "    df.to_csv('digital_marketing_services.csv', index=False)\n",
    "    print(f\"Total companies scraped: {total_companies}\")"
   ]
  },
  {
   "cell_type": "code",
   "execution_count": 3,
   "id": "b4a91a5d-35b6-4355-93fc-fe7b5eb9d8e1",
   "metadata": {},
   "outputs": [
    {
     "name": "stdout",
     "output_type": "stream",
     "text": [
      "Total companies scraped: 50\n"
     ]
    }
   ],
   "source": [
    "if __name__ == '__main__':\n",
    "    scrape_yellow_pages()"
   ]
  },
  {
   "cell_type": "code",
   "execution_count": null,
   "id": "c6574e5d-456d-447e-a2af-6ac7b8039a84",
   "metadata": {},
   "outputs": [],
   "source": []
  }
 ],
 "metadata": {
  "kernelspec": {
   "display_name": "Python 3 (ipykernel)",
   "language": "python",
   "name": "python3"
  },
  "language_info": {
   "codemirror_mode": {
    "name": "ipython",
    "version": 3
   },
   "file_extension": ".py",
   "mimetype": "text/x-python",
   "name": "python",
   "nbconvert_exporter": "python",
   "pygments_lexer": "ipython3",
   "version": "3.12.6"
  }
 },
 "nbformat": 4,
 "nbformat_minor": 5
}
